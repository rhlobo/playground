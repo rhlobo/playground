{
 "metadata": {
  "name": "",
  "signature": "sha256:c194562c85c0c99ea3ec0f52e521c8687dca992317915e8ca2ae65928f7fc632"
 },
 "nbformat": 3,
 "nbformat_minor": 0,
 "worksheets": [
  {
   "cells": [
    {
     "cell_type": "code",
     "collapsed": false,
     "input": [
      "#Once you need to match an pattern, the best I can think of (without an example) is to suggest the use of regular expressions.\n",
      "\n",
      "#Given the binary file `filepath`, you can use regex pattern matching with the following:\n",
      "\n",
      "        import re\n",
      "        \n",
      "        with open('filepath', 'rb') as f:\n",
      "            results = re.findall(b'whatever pattern', f.read())\n",
      "\n",
      "#To speed up, you can compite the regex before using it:\n",
      "\n",
      "        import re\n",
      "        \n",
      "        pattern = re.compile(b'whatever pattern')\n",
      "        \n",
      "        with open('filepath', 'rb') as f:\n",
      "            results = pattern.findall(f.read())\n",
      "\n",
      "#The 'cut' part if a whole other deal. \n",
      "#If using thit approach, I would suggest you to add the 4 bytes preceding your desired pattern in the regular expression itself:\n",
      "\n",
      "        pattern = re.compile(b'[.]{4}whatever pattern')\n",
      "\n"
     ],
     "language": "python",
     "metadata": {},
     "outputs": []
    }
   ],
   "metadata": {}
  }
 ]
}