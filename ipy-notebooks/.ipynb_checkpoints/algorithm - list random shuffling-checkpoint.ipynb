{
 "metadata": {
  "name": "",
  "signature": "sha256:8d7ed9f53c408fa5f394885bd6ba376d45734981a06b13566306d3d89ccfe1bc"
 },
 "nbformat": 3,
 "nbformat_minor": 0,
 "worksheets": [
  {
   "cells": [
    {
     "cell_type": "code",
     "collapsed": false,
     "input": [
      "l = [0, 1, 2, 3, 4, 5, 6, 7, 8, 9]"
     ],
     "language": "python",
     "metadata": {},
     "outputs": [],
     "prompt_number": 10
    },
    {
     "cell_type": "code",
     "collapsed": false,
     "input": [
      "size = len(l)\n",
      "size"
     ],
     "language": "python",
     "metadata": {},
     "outputs": [
      {
       "metadata": {},
       "output_type": "pyout",
       "prompt_number": 11,
       "text": [
        "10"
       ]
      }
     ],
     "prompt_number": 11
    },
    {
     "cell_type": "code",
     "collapsed": false,
     "input": [
      "import random"
     ],
     "language": "python",
     "metadata": {},
     "outputs": [],
     "prompt_number": 12
    },
    {
     "cell_type": "code",
     "collapsed": false,
     "input": [
      "## com repetidos\n",
      "result = []\n",
      "for i in range(len(l)):\n",
      "    position = int(random.random() * size)\n",
      "    result.append(l[position])"
     ],
     "language": "python",
     "metadata": {},
     "outputs": [],
     "prompt_number": 18
    },
    {
     "cell_type": "code",
     "collapsed": false,
     "input": [
      "result"
     ],
     "language": "python",
     "metadata": {},
     "outputs": [
      {
       "metadata": {},
       "output_type": "pyout",
       "prompt_number": 19,
       "text": [
        "[2, 5, 0, 4, 0, 4, 6, 2, 0, 4]"
       ]
      }
     ],
     "prompt_number": 19
    },
    {
     "cell_type": "code",
     "collapsed": false,
     "input": [
      "## sem repetidos bigO(n**2)\n",
      "result = []\n",
      "for i in range(len(l)):\n",
      "    while True:\n",
      "        position = int(random.random() * size)\n",
      "        value = l[position]\n",
      "        if value not in result:\n",
      "            break\n",
      "    result.append(value)"
     ],
     "language": "python",
     "metadata": {},
     "outputs": [],
     "prompt_number": 22
    },
    {
     "cell_type": "code",
     "collapsed": false,
     "input": [
      "result"
     ],
     "language": "python",
     "metadata": {},
     "outputs": [
      {
       "metadata": {},
       "output_type": "pyout",
       "prompt_number": 23,
       "text": [
        "[1, 2, 0, 3, 8, 7, 9, 5, 4, 6]"
       ]
      }
     ],
     "prompt_number": 23
    },
    {
     "cell_type": "code",
     "collapsed": false,
     "input": [
      "## sem repetidos bigO(n) space(n)\n",
      "result = []\n",
      "has_map = {}\n",
      "for i in range(len(l)):\n",
      "    while True:\n",
      "        position = int(random.random() * size)\n",
      "        value = l[position]\n",
      "        if value not in has_map:\n",
      "            break\n",
      "    has_map[value] = True\n",
      "    result.append(value)"
     ],
     "language": "python",
     "metadata": {},
     "outputs": [],
     "prompt_number": 26
    },
    {
     "cell_type": "code",
     "collapsed": false,
     "input": [
      "result"
     ],
     "language": "python",
     "metadata": {},
     "outputs": [
      {
       "metadata": {},
       "output_type": "pyout",
       "prompt_number": 27,
       "text": [
        "[9, 8, 7, 2, 3, 4, 5, 1, 6, 0]"
       ]
      }
     ],
     "prompt_number": 27
    },
    {
     "cell_type": "code",
     "collapsed": false,
     "input": [
      "## sem repetidos O(n)\n",
      "\n",
      "result = l[:]\n",
      "for i in range(2 * len(l), 0, -1):\n",
      "    p1 = int(random.random() * size)\n",
      "    p2 = int(random.random() * size)\n",
      "    aux = result[p1]\n",
      "    result[p1] = result[p2]\n",
      "    result[p2] = aux\n",
      "result"
     ],
     "language": "python",
     "metadata": {},
     "outputs": [
      {
       "metadata": {},
       "output_type": "pyout",
       "prompt_number": 30,
       "text": [
        "[2, 6, 7, 4, 1, 3, 5, 8, 0, 9]"
       ]
      }
     ],
     "prompt_number": 30
    },
    {
     "cell_type": "code",
     "collapsed": false,
     "input": [
      "## sem repetidos O(n)\n",
      "\n",
      "result = l[:]\n",
      "for i in range(0, len(l)):\n",
      "    p = int(random.random() * size)\n",
      "    aux = result[i]\n",
      "    result[i] = result[p]\n",
      "    result[p] = aux\n",
      "result"
     ],
     "language": "python",
     "metadata": {},
     "outputs": [
      {
       "metadata": {},
       "output_type": "pyout",
       "prompt_number": 32,
       "text": [
        "[8, 3, 4, 2, 6, 5, 7, 1, 0, 9]"
       ]
      }
     ],
     "prompt_number": 32
    },
    {
     "cell_type": "code",
     "collapsed": false,
     "input": [],
     "language": "python",
     "metadata": {},
     "outputs": []
    }
   ],
   "metadata": {}
  }
 ]
}