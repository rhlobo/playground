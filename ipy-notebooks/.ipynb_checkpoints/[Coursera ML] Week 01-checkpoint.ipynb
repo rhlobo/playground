{
 "metadata": {
  "name": "",
  "signature": "sha256:53068368c57da93ef8a3cffcfdbce9bc63656bf124d00fa0cb6ea97793e4bb02"
 },
 "nbformat": 3,
 "nbformat_minor": 0,
 "worksheets": [
  {
   "cells": [
    {
     "cell_type": "markdown",
     "metadata": {},
     "source": [
      "Machine Learning\n",
      "================"
     ]
    },
    {
     "cell_type": "markdown",
     "metadata": {},
     "source": [
      "### Types of algorithms\n",
      "- Supersived\n",
      "    - Regression\n",
      "    - Classification\n",
      "- Unsupervised\n",
      "    - Clusterization\n",
      "- ..."
     ]
    },
    {
     "cell_type": "markdown",
     "metadata": {},
     "source": [
      "### Univariate linear regression\n",
      "#### Problem formulation"
     ]
    },
    {
     "cell_type": "code",
     "collapsed": false,
     "input": [
      "%%latex\n",
      "\\begin{aligned}\n",
      "Hypothesis: \\\\\n",
      "    h_\\theta(x) = \\theta_0 + \\theta_1 x \\\\\n",
      "\\\\\n",
      "Parameters: \\\\\n",
      "    \\theta_0, \\theta_1 \\\\\n",
      "\\\\\n",
      "Cost function (error): \\\\\n",
      "    J(\\theta_0, \\theta_1) = \\frac{1}{2m} \\sum_{i = 1}^{m} ( h_\\theta(x^{(i)}) - y^{(i)} )^{2} \\\\\n",
      "\\\\\n",
      "Goal: \\\\\n",
      "    \\underset{\\theta_0, \\theta_1}{min} J(\\theta_0, \\theta_1) \\\\\n",
      "\\end{aligned}"
     ],
     "language": "python",
     "metadata": {},
     "outputs": [
      {
       "latex": [
        "\\begin{aligned}\n",
        "Hypothesis: \\\\\n",
        "    h_\\theta(x) = \\theta_0 + \\theta_1 x \\\\\n",
        "\\\\\n",
        "Parameters: \\\\\n",
        "    \\theta_0, \\theta_1 \\\\\n",
        "\\\\\n",
        "Cost function (error): \\\\\n",
        "    J(\\theta_0, \\theta_1) = \\frac{1}{2m} \\sum_{i = 1}^{m} ( h_\\theta(x^{(i)}) - y^{(i)} )^{2} \\\\\n",
        "\\\\\n",
        "Goal: \\\\\n",
        "    \\underset{\\theta_0, \\theta_1}{min} J(\\theta_0, \\theta_1) \\\\\n",
        "\\end{aligned}"
       ],
       "metadata": {},
       "output_type": "display_data",
       "text": [
        "<IPython.core.display.Latex at 0x7fc148ecb0d0>"
       ]
      }
     ],
     "prompt_number": 9
    },
    {
     "cell_type": "markdown",
     "metadata": {},
     "source": [
      "#### Algorithms for minimizing the cost funciton\n",
      "Searching for local minimals\n",
      "\n",
      "- Gradient descent"
     ]
    },
    {
     "cell_type": "code",
     "collapsed": false,
     "input": [
      "%%latex\n",
      "\\begin{aligned}\n",
      "    \\alpha \\rightarrow learning rate (step size)\n",
      "\\end{aligned}"
     ],
     "language": "python",
     "metadata": {},
     "outputs": [
      {
       "latex": [
        "\\begin{aligned}\n",
        "    \\alpha \\rightarrow learning rate (step size)\n",
        "\\end{aligned}"
       ],
       "metadata": {},
       "output_type": "display_data",
       "text": [
        "<IPython.core.display.Latex at 0x7fc148ecb310>"
       ]
      }
     ],
     "prompt_number": 11
    },
    {
     "cell_type": "markdown",
     "metadata": {},
     "source": [
      "repeat until convergence {"
     ]
    },
    {
     "cell_type": "markdown",
     "metadata": {},
     "source": [
      "$$\n",
      "    \\theta_j := \\theta_j - \\alpha \\frac{\\partial }{\\partial \\theta_j} J(\\theta_0, \\theta_1)\n",
      "$$"
     ]
    },
    {
     "cell_type": "markdown",
     "metadata": {},
     "source": [
      "    (simultaneously update j = 0 and j = 1)\n",
      "}"
     ]
    },
    {
     "cell_type": "code",
     "collapsed": false,
     "input": [],
     "language": "python",
     "metadata": {},
     "outputs": []
    }
   ],
   "metadata": {}
  }
 ]
}