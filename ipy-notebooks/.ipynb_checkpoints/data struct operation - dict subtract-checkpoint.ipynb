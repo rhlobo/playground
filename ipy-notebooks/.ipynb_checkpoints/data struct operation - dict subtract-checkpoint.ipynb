{
 "metadata": {
  "name": "",
  "signature": "sha256:7529b158cd07a66b8641b42a74520ed049d81e26542b8e35b6c7fbcd50f6e72e"
 },
 "nbformat": 3,
 "nbformat_minor": 0,
 "worksheets": [
  {
   "cells": [
    {
     "cell_type": "code",
     "collapsed": false,
     "input": [
      "a =  {\n",
      "     \"my_app\":\n",
      "        {\n",
      "        \"environment_variables\":\n",
      "           {\n",
      "            \"SOME_ENV_VAR\":\n",
      "                [\n",
      "                \"/tmp\",\n",
      "                \"tmp2\"\n",
      "                ]\n",
      "           },\n",
      "\n",
      "        \"variables\":\n",
      "           { \"my_var\": \"1\",\n",
      "             \"my_other_var\": \"2\"\n",
      "           }\n",
      "        }\n",
      "     }\n",
      "\n",
      "b =  {\n",
      "      \"my_app\":\n",
      "        {\n",
      "        \"environment_variables\":\n",
      "           {\n",
      "            \"SOME_ENV_VAR\":\n",
      "                [\n",
      "                \"/tmp\"\n",
      "                ]\n",
      "           },\n",
      "\n",
      "        \"variables\":\n",
      "           { \"my_var\": \"1\" }\n",
      "        }\n",
      "     }"
     ],
     "language": "python",
     "metadata": {},
     "outputs": [],
     "prompt_number": 6
    },
    {
     "cell_type": "code",
     "collapsed": false,
     "input": [
      "def subtract(a, b):\n",
      "    result = {}\n",
      "    \n",
      "    for key, value in a.items():\n",
      "        if key not in b or b[key] != value:\n",
      "            if not isinstance(value, dict):\n",
      "                if isinstance(value, list):\n",
      "                    result[key] = [item for item in value if item not in b[key]]\n",
      "                else:\n",
      "                    result[key] = value\n",
      "                continue\n",
      "         \n",
      "            inner_dict = subtract(value, b[key])\n",
      "            if len(inner_dict) > 0:\n",
      "                result[key] = inner_dict\n",
      "    \n",
      "    return result"
     ],
     "language": "python",
     "metadata": {},
     "outputs": [],
     "prompt_number": 7
    },
    {
     "cell_type": "code",
     "collapsed": false,
     "input": [
      "subtract(a, b)"
     ],
     "language": "python",
     "metadata": {},
     "outputs": [
      {
       "metadata": {},
       "output_type": "pyout",
       "prompt_number": 8,
       "text": [
        "{'my_app': {'environment_variables': {'SOME_ENV_VAR': ['tmp2']},\n",
        "  'variables': {'my_other_var': '2'}}}"
       ]
      }
     ],
     "prompt_number": 8
    },
    {
     "cell_type": "code",
     "collapsed": false,
     "input": [],
     "language": "python",
     "metadata": {},
     "outputs": []
    }
   ],
   "metadata": {}
  }
 ]
}