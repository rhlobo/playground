{
 "metadata": {
  "name": "",
  "signature": "sha256:01a4cd0311befabece71b908a8773db2feb53f3c90ffdda44ed21608f0d674ed"
 },
 "nbformat": 3,
 "nbformat_minor": 0,
 "worksheets": [
  {
   "cells": [
    {
     "cell_type": "code",
     "collapsed": false,
     "input": [
      "import datetime\n",
      "import pytz"
     ],
     "language": "python",
     "metadata": {},
     "outputs": [],
     "prompt_number": 7
    },
    {
     "cell_type": "code",
     "collapsed": false,
     "input": [
      "epoch = 1410974864"
     ],
     "language": "python",
     "metadata": {},
     "outputs": [],
     "prompt_number": 2
    },
    {
     "cell_type": "code",
     "collapsed": false,
     "input": [
      "dt = datetime.datetime.fromtimestamp(1410974864, tz=pytz.UTC)\n",
      "dt\n",
      "# Wed, 17 Sep 2014 17:27:44 GMT"
     ],
     "language": "python",
     "metadata": {},
     "outputs": [
      {
       "metadata": {},
       "output_type": "pyout",
       "prompt_number": 13,
       "text": [
        "datetime.datetime(2014, 9, 17, 17, 27, 44, tzinfo=<UTC>)"
       ]
      }
     ],
     "prompt_number": 13
    },
    {
     "cell_type": "code",
     "collapsed": false,
     "input": [
      "dt.replace(hour=0, minute=0, second=0, microsecond=0)"
     ],
     "language": "python",
     "metadata": {},
     "outputs": [
      {
       "metadata": {},
       "output_type": "pyout",
       "prompt_number": 11,
       "text": [
        "datetime.datetime(2014, 9, 17, 0, 0)"
       ]
      }
     ],
     "prompt_number": 11
    }
   ],
   "metadata": {}
  }
 ]
}