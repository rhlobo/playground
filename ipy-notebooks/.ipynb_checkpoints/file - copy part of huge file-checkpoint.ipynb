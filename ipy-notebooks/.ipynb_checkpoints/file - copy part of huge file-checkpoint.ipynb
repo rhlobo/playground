{
 "metadata": {
  "name": "",
  "signature": "sha256:4a7281b79d9cdb09510d2b6aa510e7262c46cb95339b79ff3b3db4fbfbbe957f"
 },
 "nbformat": 3,
 "nbformat_minor": 0,
 "worksheets": [
  {
   "cells": [
    {
     "cell_type": "markdown",
     "metadata": {},
     "source": [
      "Question\n",
      "========\n",
      "\n",
      "Say I have a binary file of 12GB and I want to slice 8GB out of the middle of it. I know the position indices I want to cut between.\n",
      "\n",
      "How do I do this? Obviously 12GB won't fit into memory, that's fine, but 8GB won't either... Which I thought was fine, but it appears binary doesn't seem to like it if you do it in chunks! I was appending 10MB at a time to a new binary file and there are discontinuities on the edges of each 10MB chunk in the new file."
     ]
    },
    {
     "cell_type": "code",
     "collapsed": false,
     "input": [
      "def copypart(src, dest, start, length, bufsize=1024*1024):\n",
      "    f1 = open(src,'rb')\n",
      "    f1.seek(start)\n",
      "\n",
      "    f2 = open(dest,'wb')\n",
      "\n",
      "    while length:\n",
      "        chunk = min(bufsize,length)\n",
      "        data = f1.read(chunk)\n",
      "        f2.write(data)\n",
      "        length -= chunk\n",
      "\n",
      "    f1.close()\n",
      "    f2.close()"
     ],
     "language": "python",
     "metadata": {},
     "outputs": [],
     "prompt_number": 1
    },
    {
     "cell_type": "code",
     "collapsed": false,
     "input": [
      "def copypart(src, dest, start, length, bufsize=1024*1024):\n",
      "    with open(src,'rb') as f_src:\n",
      "        f_src.seek(start)\n",
      "        with open(dest,'wb') as f_dest:\n",
      "            while length:\n",
      "                chunk = min(bufsize,length)\n",
      "                data = f_src.read(chunk)\n",
      "                f_dest.write(data)\n",
      "                length -= chunk"
     ],
     "language": "python",
     "metadata": {},
     "outputs": [],
     "prompt_number": 2
    },
    {
     "cell_type": "code",
     "collapsed": false,
     "input": [],
     "language": "python",
     "metadata": {},
     "outputs": []
    }
   ],
   "metadata": {}
  }
 ]
}